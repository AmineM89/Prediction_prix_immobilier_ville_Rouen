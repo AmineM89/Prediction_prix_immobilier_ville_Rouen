{
 "cells": [
  {
   "cell_type": "code",
   "execution_count": 2109,
   "id": "cc719556",
   "metadata": {},
   "outputs": [],
   "source": [
    "import matplotlib.pyplot as plt\n",
    "import pandas as pd\n",
    "import numpy as np\n",
    "import os\n",
    "import glob\n",
    "import seaborn as sns\n",
    "from sklearn.model_selection import train_test_split,cross_val_score\n",
    "from sklearn.linear_model import LinearRegression, Ridge, Lasso\n",
    "from sklearn.preprocessing import PolynomialFeatures"
   ]
  },
  {
   "cell_type": "markdown",
   "id": "8ea3abc4",
   "metadata": {},
   "source": [
    "# Lecture des données"
   ]
  },
  {
   "cell_type": "code",
   "execution_count": 2110,
   "id": "c2a15a11",
   "metadata": {},
   "outputs": [],
   "source": [
    "################# lecture des donées ######################\n",
    "csv_files = glob.glob(\"C:/Users/TRETEC/Desktop/DARI project/transactions-ser/*.csv\")\n",
    "data=pd.DataFrame()\n",
    "L=[]\n",
    "for f in csv_files:    \n",
    "    L.append(pd.read_csv(f,sep=\";\"))\n",
    "data=pd.concat(L)\n",
    "###########################################################"
   ]
  },
  {
   "cell_type": "markdown",
   "id": "f67789e8",
   "metadata": {},
   "source": [
    "# Exploration des données\n",
    "## Analyse de la forme des donnés\n",
    "* Target variable : valeur_fonciere\n",
    "* lignes et colonnes : (2972, 41)\n",
    "* type de variables : object:30, float64:7, int64:4\n",
    "* données manquantes : presque la moitié des variables ont >90% de NaN\n",
    "\n",
    "## Data cleaning\n",
    "* Retirer les données avec beaucoup de NaN\n",
    "* Puisque on travail que sur les données de saint-étienne-du-rouvray supprimer les colonnes qui ont une valeur unique : communes, département ... \n",
    "* Supprimer les colonnes redondantes : code_nature_culture (redondant à nature_culture), code_type_local (redondant à type local) ...\n",
    "\n",
    "## Analyse approfondi des données\n",
    "* valeur target: la majorité des biens ont une valeur foncière entre 10 000-500 000€. Beacoup de valeurs sont très faibles (exp:1€). il existe aussi une valeur très élevé 36M€.\n",
    "* variables continu : surface_reel_bati sont symétrique non normalisé, surface_terrain données non symétriques\n",
    "* variables discrètes : nombre de pièces ~80% entre 3-5 pièces. type_local ~3/4 sont de maisons. Nature_culture sont majoritairement des sols. exemple equi probable sur les différents secteur\n",
    "\n",
    "## Relation entre les variables\n",
    "#### Relation entres les variables et target\n",
    "* Pour les maisons, il existe une forte corrélation positif entre la valeur fiscale et nombre de pièce, la surface bati, la surface du terrain ce qui est complétement cohérent\n",
    "* Pour ce qui est des appartement il y a une correlation négatif entre la valeur fiscale et nombre de pièce, la surface bati, la surface du terrain ce qui est contre intuitif est laisse un gros doute quant à la fiabilités des données pour les appartement"
   ]
  },
  {
   "cell_type": "code",
   "execution_count": 2111,
   "id": "f6af8f1c",
   "metadata": {},
   "outputs": [],
   "source": [
    "pd.options.display.max_columns = 41\n",
    "pd.options.display.max_rows = 2972"
   ]
  },
  {
   "cell_type": "code",
   "execution_count": 2112,
   "id": "3152a3f6",
   "metadata": {},
   "outputs": [
    {
     "data": {
      "text/html": [
       "<div>\n",
       "<style scoped>\n",
       "    .dataframe tbody tr th:only-of-type {\n",
       "        vertical-align: middle;\n",
       "    }\n",
       "\n",
       "    .dataframe tbody tr th {\n",
       "        vertical-align: top;\n",
       "    }\n",
       "\n",
       "    .dataframe thead th {\n",
       "        text-align: right;\n",
       "    }\n",
       "</style>\n",
       "<table border=\"1\" class=\"dataframe\">\n",
       "  <thead>\n",
       "    <tr style=\"text-align: right;\">\n",
       "      <th></th>\n",
       "      <th>id_mutation</th>\n",
       "      <th>date_mutation</th>\n",
       "      <th>numero_disposition</th>\n",
       "      <th>nature_mutation</th>\n",
       "      <th>valeur_fonciere</th>\n",
       "      <th>adresse_numero</th>\n",
       "      <th>adresse_suffixe</th>\n",
       "      <th>adresse_nom_voie</th>\n",
       "      <th>adresse_code_voie</th>\n",
       "      <th>code_postal</th>\n",
       "      <th>code_commune</th>\n",
       "      <th>nom_commune</th>\n",
       "      <th>code_departement</th>\n",
       "      <th>ancien_code_commune</th>\n",
       "      <th>ancien_nom_commune</th>\n",
       "      <th>id_parcelle</th>\n",
       "      <th>ancien_id_parcelle</th>\n",
       "      <th>numero_volume</th>\n",
       "      <th>lot1_numero</th>\n",
       "      <th>lot1_surface_carrez</th>\n",
       "      <th>lot2_numero</th>\n",
       "      <th>lot2_surface_carrez</th>\n",
       "      <th>lot3_numero</th>\n",
       "      <th>lot3_surface_carrez</th>\n",
       "      <th>lot4_numero</th>\n",
       "      <th>lot4_surface_carrez</th>\n",
       "      <th>lot5_numero</th>\n",
       "      <th>lot5_surface_carrez</th>\n",
       "      <th>nombre_lots</th>\n",
       "      <th>code_type_local</th>\n",
       "      <th>type_local</th>\n",
       "      <th>surface_reelle_bati</th>\n",
       "      <th>nombre_pieces_principales</th>\n",
       "      <th>code_nature_culture</th>\n",
       "      <th>nature_culture</th>\n",
       "      <th>code_nature_culture_speciale</th>\n",
       "      <th>nature_culture_speciale</th>\n",
       "      <th>surface_terrain</th>\n",
       "      <th>longitude</th>\n",
       "      <th>latitude</th>\n",
       "      <th>section_prefixe</th>\n",
       "    </tr>\n",
       "  </thead>\n",
       "  <tbody>\n",
       "    <tr>\n",
       "      <th>0</th>\n",
       "      <td>2022-360375</td>\n",
       "      <td>2022-04-21</td>\n",
       "      <td>1</td>\n",
       "      <td>Vente</td>\n",
       "      <td>260000.0</td>\n",
       "      <td>26.0</td>\n",
       "      <td>None</td>\n",
       "      <td>RUE DELILLE</td>\n",
       "      <td>582</td>\n",
       "      <td>76800</td>\n",
       "      <td>76575</td>\n",
       "      <td>Saint-Étienne-du-Rouvray</td>\n",
       "      <td>76</td>\n",
       "      <td>None</td>\n",
       "      <td>None</td>\n",
       "      <td>76575000AB0065</td>\n",
       "      <td>None</td>\n",
       "      <td>None</td>\n",
       "      <td>None</td>\n",
       "      <td>None</td>\n",
       "      <td>None</td>\n",
       "      <td>None</td>\n",
       "      <td>None</td>\n",
       "      <td>None</td>\n",
       "      <td>None</td>\n",
       "      <td>None</td>\n",
       "      <td>None</td>\n",
       "      <td>None</td>\n",
       "      <td>0</td>\n",
       "      <td>1</td>\n",
       "      <td>Maison</td>\n",
       "      <td>129.0</td>\n",
       "      <td>4.0</td>\n",
       "      <td>S</td>\n",
       "      <td>sols</td>\n",
       "      <td>None</td>\n",
       "      <td>None</td>\n",
       "      <td>351.0</td>\n",
       "      <td>1.071855</td>\n",
       "      <td>49.401886</td>\n",
       "      <td>000AB</td>\n",
       "    </tr>\n",
       "    <tr>\n",
       "      <th>1</th>\n",
       "      <td>2022-360375</td>\n",
       "      <td>2022-04-21</td>\n",
       "      <td>1</td>\n",
       "      <td>Vente</td>\n",
       "      <td>260000.0</td>\n",
       "      <td>26.0</td>\n",
       "      <td>None</td>\n",
       "      <td>RUE DELILLE</td>\n",
       "      <td>582</td>\n",
       "      <td>76800</td>\n",
       "      <td>76575</td>\n",
       "      <td>Saint-Étienne-du-Rouvray</td>\n",
       "      <td>76</td>\n",
       "      <td>None</td>\n",
       "      <td>None</td>\n",
       "      <td>76575000AB0065</td>\n",
       "      <td>None</td>\n",
       "      <td>None</td>\n",
       "      <td>None</td>\n",
       "      <td>None</td>\n",
       "      <td>None</td>\n",
       "      <td>None</td>\n",
       "      <td>None</td>\n",
       "      <td>None</td>\n",
       "      <td>None</td>\n",
       "      <td>None</td>\n",
       "      <td>None</td>\n",
       "      <td>None</td>\n",
       "      <td>0</td>\n",
       "      <td>3</td>\n",
       "      <td>Dépendance</td>\n",
       "      <td>NaN</td>\n",
       "      <td>0.0</td>\n",
       "      <td>S</td>\n",
       "      <td>sols</td>\n",
       "      <td>None</td>\n",
       "      <td>None</td>\n",
       "      <td>351.0</td>\n",
       "      <td>1.071855</td>\n",
       "      <td>49.401886</td>\n",
       "      <td>000AB</td>\n",
       "    </tr>\n",
       "    <tr>\n",
       "      <th>2</th>\n",
       "      <td>2021-1180016</td>\n",
       "      <td>2021-05-10</td>\n",
       "      <td>1</td>\n",
       "      <td>Vente</td>\n",
       "      <td>160000.0</td>\n",
       "      <td>13.0</td>\n",
       "      <td>None</td>\n",
       "      <td>RUE ALFRED DE MUSSET</td>\n",
       "      <td>40</td>\n",
       "      <td>76800</td>\n",
       "      <td>76575</td>\n",
       "      <td>Saint-Étienne-du-Rouvray</td>\n",
       "      <td>76</td>\n",
       "      <td>None</td>\n",
       "      <td>None</td>\n",
       "      <td>76575000AB0023</td>\n",
       "      <td>None</td>\n",
       "      <td>None</td>\n",
       "      <td>None</td>\n",
       "      <td>None</td>\n",
       "      <td>None</td>\n",
       "      <td>None</td>\n",
       "      <td>None</td>\n",
       "      <td>None</td>\n",
       "      <td>None</td>\n",
       "      <td>None</td>\n",
       "      <td>None</td>\n",
       "      <td>None</td>\n",
       "      <td>0</td>\n",
       "      <td>1</td>\n",
       "      <td>Maison</td>\n",
       "      <td>64.0</td>\n",
       "      <td>4.0</td>\n",
       "      <td>S</td>\n",
       "      <td>sols</td>\n",
       "      <td>None</td>\n",
       "      <td>None</td>\n",
       "      <td>452.0</td>\n",
       "      <td>1.070963</td>\n",
       "      <td>49.402764</td>\n",
       "      <td>000AB</td>\n",
       "    </tr>\n",
       "    <tr>\n",
       "      <th>3</th>\n",
       "      <td>2021-1177880</td>\n",
       "      <td>2021-01-14</td>\n",
       "      <td>1</td>\n",
       "      <td>Vente</td>\n",
       "      <td>174000.0</td>\n",
       "      <td>21.0</td>\n",
       "      <td>None</td>\n",
       "      <td>RUE PAUL VERLAINE</td>\n",
       "      <td>1920</td>\n",
       "      <td>76800</td>\n",
       "      <td>76575</td>\n",
       "      <td>Saint-Étienne-du-Rouvray</td>\n",
       "      <td>76</td>\n",
       "      <td>None</td>\n",
       "      <td>None</td>\n",
       "      <td>76575000AB0012</td>\n",
       "      <td>None</td>\n",
       "      <td>None</td>\n",
       "      <td>None</td>\n",
       "      <td>None</td>\n",
       "      <td>None</td>\n",
       "      <td>None</td>\n",
       "      <td>None</td>\n",
       "      <td>None</td>\n",
       "      <td>None</td>\n",
       "      <td>None</td>\n",
       "      <td>None</td>\n",
       "      <td>None</td>\n",
       "      <td>0</td>\n",
       "      <td>1</td>\n",
       "      <td>Maison</td>\n",
       "      <td>64.0</td>\n",
       "      <td>4.0</td>\n",
       "      <td>S</td>\n",
       "      <td>sols</td>\n",
       "      <td>None</td>\n",
       "      <td>None</td>\n",
       "      <td>498.0</td>\n",
       "      <td>1.070475</td>\n",
       "      <td>49.403622</td>\n",
       "      <td>000AB</td>\n",
       "    </tr>\n",
       "    <tr>\n",
       "      <th>4</th>\n",
       "      <td>2021-1177880</td>\n",
       "      <td>2021-01-14</td>\n",
       "      <td>1</td>\n",
       "      <td>Vente</td>\n",
       "      <td>174000.0</td>\n",
       "      <td>21.0</td>\n",
       "      <td>None</td>\n",
       "      <td>RUE PAUL VERLAINE</td>\n",
       "      <td>1920</td>\n",
       "      <td>76800</td>\n",
       "      <td>76575</td>\n",
       "      <td>Saint-Étienne-du-Rouvray</td>\n",
       "      <td>76</td>\n",
       "      <td>None</td>\n",
       "      <td>None</td>\n",
       "      <td>76575000AB0012</td>\n",
       "      <td>None</td>\n",
       "      <td>None</td>\n",
       "      <td>None</td>\n",
       "      <td>None</td>\n",
       "      <td>None</td>\n",
       "      <td>None</td>\n",
       "      <td>None</td>\n",
       "      <td>None</td>\n",
       "      <td>None</td>\n",
       "      <td>None</td>\n",
       "      <td>None</td>\n",
       "      <td>None</td>\n",
       "      <td>0</td>\n",
       "      <td>3</td>\n",
       "      <td>Dépendance</td>\n",
       "      <td>NaN</td>\n",
       "      <td>0.0</td>\n",
       "      <td>S</td>\n",
       "      <td>sols</td>\n",
       "      <td>None</td>\n",
       "      <td>None</td>\n",
       "      <td>498.0</td>\n",
       "      <td>1.070475</td>\n",
       "      <td>49.403622</td>\n",
       "      <td>000AB</td>\n",
       "    </tr>\n",
       "  </tbody>\n",
       "</table>\n",
       "</div>"
      ],
      "text/plain": [
       "    id_mutation date_mutation  numero_disposition nature_mutation  \\\n",
       "0   2022-360375    2022-04-21                   1           Vente   \n",
       "1   2022-360375    2022-04-21                   1           Vente   \n",
       "2  2021-1180016    2021-05-10                   1           Vente   \n",
       "3  2021-1177880    2021-01-14                   1           Vente   \n",
       "4  2021-1177880    2021-01-14                   1           Vente   \n",
       "\n",
       "   valeur_fonciere  adresse_numero adresse_suffixe      adresse_nom_voie  \\\n",
       "0         260000.0            26.0            None           RUE DELILLE   \n",
       "1         260000.0            26.0            None           RUE DELILLE   \n",
       "2         160000.0            13.0            None  RUE ALFRED DE MUSSET   \n",
       "3         174000.0            21.0            None     RUE PAUL VERLAINE   \n",
       "4         174000.0            21.0            None     RUE PAUL VERLAINE   \n",
       "\n",
       "  adresse_code_voie code_postal  code_commune               nom_commune  \\\n",
       "0               582       76800         76575  Saint-Étienne-du-Rouvray   \n",
       "1               582       76800         76575  Saint-Étienne-du-Rouvray   \n",
       "2                40       76800         76575  Saint-Étienne-du-Rouvray   \n",
       "3              1920       76800         76575  Saint-Étienne-du-Rouvray   \n",
       "4              1920       76800         76575  Saint-Étienne-du-Rouvray   \n",
       "\n",
       "   code_departement ancien_code_commune ancien_nom_commune     id_parcelle  \\\n",
       "0                76                None               None  76575000AB0065   \n",
       "1                76                None               None  76575000AB0065   \n",
       "2                76                None               None  76575000AB0023   \n",
       "3                76                None               None  76575000AB0012   \n",
       "4                76                None               None  76575000AB0012   \n",
       "\n",
       "  ancien_id_parcelle numero_volume lot1_numero lot1_surface_carrez  \\\n",
       "0               None          None        None                None   \n",
       "1               None          None        None                None   \n",
       "2               None          None        None                None   \n",
       "3               None          None        None                None   \n",
       "4               None          None        None                None   \n",
       "\n",
       "  lot2_numero lot2_surface_carrez lot3_numero lot3_surface_carrez lot4_numero  \\\n",
       "0        None                None        None                None        None   \n",
       "1        None                None        None                None        None   \n",
       "2        None                None        None                None        None   \n",
       "3        None                None        None                None        None   \n",
       "4        None                None        None                None        None   \n",
       "\n",
       "  lot4_surface_carrez lot5_numero lot5_surface_carrez  nombre_lots  \\\n",
       "0                None        None                None            0   \n",
       "1                None        None                None            0   \n",
       "2                None        None                None            0   \n",
       "3                None        None                None            0   \n",
       "4                None        None                None            0   \n",
       "\n",
       "  code_type_local  type_local  surface_reelle_bati  nombre_pieces_principales  \\\n",
       "0               1      Maison                129.0                        4.0   \n",
       "1               3  Dépendance                  NaN                        0.0   \n",
       "2               1      Maison                 64.0                        4.0   \n",
       "3               1      Maison                 64.0                        4.0   \n",
       "4               3  Dépendance                  NaN                        0.0   \n",
       "\n",
       "  code_nature_culture nature_culture code_nature_culture_speciale  \\\n",
       "0                   S           sols                         None   \n",
       "1                   S           sols                         None   \n",
       "2                   S           sols                         None   \n",
       "3                   S           sols                         None   \n",
       "4                   S           sols                         None   \n",
       "\n",
       "  nature_culture_speciale  surface_terrain  longitude   latitude  \\\n",
       "0                    None            351.0   1.071855  49.401886   \n",
       "1                    None            351.0   1.071855  49.401886   \n",
       "2                    None            452.0   1.070963  49.402764   \n",
       "3                    None            498.0   1.070475  49.403622   \n",
       "4                    None            498.0   1.070475  49.403622   \n",
       "\n",
       "  section_prefixe  \n",
       "0           000AB  \n",
       "1           000AB  \n",
       "2           000AB  \n",
       "3           000AB  \n",
       "4           000AB  "
      ]
     },
     "execution_count": 2112,
     "metadata": {},
     "output_type": "execute_result"
    }
   ],
   "source": [
    "df=data.copy()\n",
    "df.head()"
   ]
  },
  {
   "cell_type": "code",
   "execution_count": 2113,
   "id": "e3b815ba",
   "metadata": {},
   "outputs": [
    {
     "data": {
      "text/plain": [
       "(2972, 41)"
      ]
     },
     "execution_count": 2113,
     "metadata": {},
     "output_type": "execute_result"
    }
   ],
   "source": [
    "df.shape"
   ]
  },
  {
   "cell_type": "code",
   "execution_count": 2114,
   "id": "12866620",
   "metadata": {},
   "outputs": [
    {
     "data": {
      "text/plain": [
       "object     30\n",
       "float64     7\n",
       "int64       4\n",
       "dtype: int64"
      ]
     },
     "execution_count": 2114,
     "metadata": {},
     "output_type": "execute_result"
    }
   ],
   "source": [
    "df.dtypes.value_counts()"
   ]
  },
  {
   "cell_type": "code",
   "execution_count": 2115,
   "id": "982ade96",
   "metadata": {},
   "outputs": [
    {
     "data": {
      "text/plain": [
       "id_mutation                      object\n",
       "date_mutation                    object\n",
       "numero_disposition                int64\n",
       "nature_mutation                  object\n",
       "valeur_fonciere                 float64\n",
       "adresse_numero                  float64\n",
       "adresse_suffixe                  object\n",
       "adresse_nom_voie                 object\n",
       "adresse_code_voie                object\n",
       "code_postal                      object\n",
       "code_commune                      int64\n",
       "nom_commune                      object\n",
       "code_departement                  int64\n",
       "ancien_code_commune              object\n",
       "ancien_nom_commune               object\n",
       "id_parcelle                      object\n",
       "ancien_id_parcelle               object\n",
       "numero_volume                    object\n",
       "lot1_numero                      object\n",
       "lot1_surface_carrez              object\n",
       "lot2_numero                      object\n",
       "lot2_surface_carrez              object\n",
       "lot3_numero                      object\n",
       "lot3_surface_carrez              object\n",
       "lot4_numero                      object\n",
       "lot4_surface_carrez              object\n",
       "lot5_numero                      object\n",
       "lot5_surface_carrez              object\n",
       "nombre_lots                       int64\n",
       "code_type_local                  object\n",
       "type_local                       object\n",
       "surface_reelle_bati             float64\n",
       "nombre_pieces_principales       float64\n",
       "code_nature_culture              object\n",
       "nature_culture                   object\n",
       "code_nature_culture_speciale     object\n",
       "nature_culture_speciale          object\n",
       "surface_terrain                 float64\n",
       "longitude                       float64\n",
       "latitude                        float64\n",
       "section_prefixe                  object\n",
       "dtype: object"
      ]
     },
     "execution_count": 2115,
     "metadata": {},
     "output_type": "execute_result"
    }
   ],
   "source": [
    "df.dtypes"
   ]
  },
  {
   "cell_type": "code",
   "execution_count": 2116,
   "id": "f69ec8b3",
   "metadata": {},
   "outputs": [
    {
     "data": {
      "text/plain": [
       "<AxesSubplot:>"
      ]
     },
     "execution_count": 2116,
     "metadata": {},
     "output_type": "execute_result"
    },
    {
     "data": {
      "image/png": "[encoded data removed]",
      "text/plain": [
       "<Figure size 432x288 with 1 Axes>"
      ]
     },
     "metadata": {
      "needs_background": "light"
     },
     "output_type": "display_data"
    }
   ],
   "source": [
    "df.replace('None',np.nan,inplace=True)\n",
    "sns.heatmap(df.isna(),cbar=False,xticklabels=True, yticklabels=False)"
   ]
  },
  {
   "cell_type": "code",
   "execution_count": 2117,
   "id": "512d6d8f",
   "metadata": {},
   "outputs": [
    {
     "data": {
      "text/plain": [
       "id_mutation                     0.000000\n",
       "nombre_lots                     0.000000\n",
       "id_parcelle                     0.000000\n",
       "code_departement                0.000000\n",
       "nom_commune                     0.000000\n",
       "code_commune                    0.000000\n",
       "section_prefixe                 0.000000\n",
       "date_mutation                   0.000000\n",
       "numero_disposition              0.000000\n",
       "nature_mutation                 0.000000\n",
       "adresse_nom_voie                0.005047\n",
       "code_postal                     0.005047\n",
       "adresse_code_voie               0.005047\n",
       "longitude                       0.009085\n",
       "latitude                        0.009085\n",
       "valeur_fonciere                 0.016824\n",
       "surface_terrain                 0.153769\n",
       "code_nature_culture             0.153769\n",
       "nature_culture                  0.153769\n",
       "adresse_numero                  0.163190\n",
       "code_type_local                 0.260094\n",
       "type_local                      0.260094\n",
       "nombre_pieces_principales       0.260767\n",
       "surface_reelle_bati             0.457268\n",
       "lot1_numero                     0.849596\n",
       "lot1_surface_carrez             0.944818\n",
       "lot2_numero                     0.945155\n",
       "adresse_suffixe                 0.960633\n",
       "code_nature_culture_speciale    0.970390\n",
       "nature_culture_speciale         0.970390\n",
       "lot3_numero                     0.979139\n",
       "lot2_surface_carrez             0.988560\n",
       "lot3_surface_carrez             0.996635\n",
       "numero_volume                   0.997981\n",
       "lot4_numero                     0.998654\n",
       "lot5_numero                     0.998654\n",
       "lot5_surface_carrez             1.000000\n",
       "lot4_surface_carrez             1.000000\n",
       "ancien_id_parcelle              1.000000\n",
       "ancien_nom_commune              1.000000\n",
       "ancien_code_commune             1.000000\n",
       "dtype: float64"
      ]
     },
     "execution_count": 2117,
     "metadata": {},
     "output_type": "execute_result"
    }
   ],
   "source": [
    "(df.isna().sum()/df.shape[0]).sort_values()"
   ]
  },
  {
   "cell_type": "markdown",
   "id": "6ba7b028",
   "metadata": {},
   "source": [
    "# Traitement des données"
   ]
  },
  {
   "cell_type": "markdown",
   "id": "52c3ebef",
   "metadata": {},
   "source": [
    "### Suppressions des exemple qui ne sont pas des maisons ou des appartement (local industriel, local commercial, dépendance)"
   ]
  },
  {
   "cell_type": "code",
   "execution_count": 2118,
   "id": "8a5c8d20",
   "metadata": {},
   "outputs": [
    {
     "data": {
      "text/plain": [
       "array(['Maison', 'Dépendance', 'Appartement',\n",
       "       'Local industriel. commercial ou assimilé', nan], dtype=object)"
      ]
     },
     "execution_count": 2118,
     "metadata": {},
     "output_type": "execute_result"
    }
   ],
   "source": [
    "df.type_local.unique()"
   ]
  },
  {
   "cell_type": "code",
   "execution_count": 2119,
   "id": "21ec181f",
   "metadata": {},
   "outputs": [],
   "source": [
    "df = df.loc[(df.type_local != 'Local industriel. commercial ou assimilé') & (df.type_local != 'Dépendance') & (df.nature_culture != \"Terrain à bâtir\")]"
   ]
  },
  {
   "cell_type": "markdown",
   "id": "65465e7c",
   "metadata": {},
   "source": [
    "### Suppression les colonnes inutiles"
   ]
  },
  {
   "cell_type": "code",
   "execution_count": 2120,
   "id": "1e50e2e6",
   "metadata": {},
   "outputs": [],
   "source": [
    "df = df[df.columns[df.isna().sum()/df.shape[0] < 0.84]] # retirer les données avec beaucoup de NaN\n",
    "# supprimer les colonnes qui ont une valeur unique : communes, département ... puisque on travail que sur les données de saint-étienne-du-rouvray\n",
    "df = df.drop(['code_departement','nom_commune','code_commune','code_postal'],axis=1)\n",
    "# supprimer les colonnes redondantes : code_nature_culture (redondant à nature_culture), code_type_local (redondant à type local) ...\n",
    "df = df.drop(['code_nature_culture','code_type_local','adresse_code_voie'],axis=1)\n",
    "# supprimer les colonnes liées à la transaction (id_mutation, numéro_disposition, nature_mutation ...)\n",
    "df = df.drop(['id_mutation','numero_disposition','id_parcelle','date_mutation','nature_mutation'],axis=1)\n",
    "# incompréhension de la variable nature_culture, il est préférable de la retiré du moment que la signification de cette variable nous ai inconnu\n",
    "df = df.drop('nature_culture',axis=1)"
   ]
  },
  {
   "cell_type": "markdown",
   "id": "cb686bc6",
   "metadata": {},
   "source": [
    "### Problème de la surface terrain pour les appartement\n",
    "comme nous pouvons le voir il n'y a aucune correlation entre la surface du terrain et la valeur des appartement. Il serait préférable d'ignorer la surface du terrain pour tous les appartement.\n",
    "\n",
    "Cela nous permetterait d'une part de retirer une variable qui risque de biaiser les résultats. D'autre part, cela nous permetterait d'augmenter le nombre d'exemple d'appartement (avant suppression des données manquantes) cat nous avons beaucoup de valeurs manquantes concernant la surface des terrain pour les appartement"
   ]
  },
  {
   "cell_type": "code",
   "execution_count": 2121,
   "id": "3d35b621",
   "metadata": {},
   "outputs": [
    {
     "data": {
      "text/plain": [
       "Text(0.5, 1.0, 'surface terrain vs target (Appartements)')"
      ]
     },
     "execution_count": 2121,
     "metadata": {},
     "output_type": "execute_result"
    },
    {
     "data": {
      "image/png": "[encoded data removed]",
      "text/plain": [
       "<Figure size 432x288 with 1 Axes>"
      ]
     },
     "metadata": {
      "needs_background": "light"
     },
     "output_type": "display_data"
    }
   ],
   "source": [
    "df_terrain_appartement = df.loc[df.type_local == \"Appartement\"]\n",
    "df_terrain_appartement = df_terrain_appartement.groupby(\"surface_terrain\").mean().valeur_fonciere\n",
    "plt.figure()\n",
    "plt.scatter(df_terrain_appartement[df_terrain_appartement.index < 1000].index,df_terrain_appartement[df_terrain_appartement.index < 1000],color='red')\n",
    "plt.title(\"surface terrain vs target (Appartements)\")"
   ]
  },
  {
   "cell_type": "markdown",
   "id": "c86856cd",
   "metadata": {},
   "source": [
    "Pour ignorer la variable surface terrain pour les appartement nous allons remplacer ses valeur par 0"
   ]
  },
  {
   "cell_type": "code",
   "execution_count": 2122,
   "id": "ce62d069",
   "metadata": {},
   "outputs": [],
   "source": [
    "df.loc[df.type_local == 'Appartement','surface_terrain'] = 0"
   ]
  },
  {
   "cell_type": "markdown",
   "id": "5e123765",
   "metadata": {},
   "source": [
    "### Problème des erreurs sur les valeurs foncières\n",
    "Il existe des valeur foncière très proches de la valeurs 0 (voir graphe ci-dessous), ce qui est impossible. Ces données risque de nous causer un biais sur la partie d'apprentissage, il est préférable de les retirer des données"
   ]
  },
  {
   "cell_type": "code",
   "execution_count": 2123,
   "id": "7258d210",
   "metadata": {},
   "outputs": [
    {
     "data": {
      "text/plain": [
       "<matplotlib.collections.PathCollection at 0x1d27ead1400>"
      ]
     },
     "execution_count": 2123,
     "metadata": {},
     "output_type": "execute_result"
    },
    {
     "data": {
      "image/png": "[encoded data removed]",
      "text/plain": [
       "<Figure size 432x288 with 1 Axes>"
      ]
     },
     "metadata": {
      "needs_background": "light"
     },
     "output_type": "display_data"
    }
   ],
   "source": [
    "plt.figure()\n",
    "plt.scatter(df[df.valeur_fonciere<100000].index,df[df.valeur_fonciere<100000].valeur_fonciere)\n",
    "plt.scatter(df[df.valeur_fonciere<4000].index,df[df.valeur_fonciere<4000].valeur_fonciere,color='red')"
   ]
  },
  {
   "cell_type": "code",
   "execution_count": 2124,
   "id": "ebbed727",
   "metadata": {},
   "outputs": [],
   "source": [
    "df = df[df.valeur_fonciere>4000]"
   ]
  },
  {
   "cell_type": "code",
   "execution_count": 2125,
   "id": "38ad5228",
   "metadata": {},
   "outputs": [
    {
     "data": {
      "text/plain": [
       "valeur_fonciere              0.000000\n",
       "nombre_lots                  0.000000\n",
       "section_prefixe              0.000000\n",
       "longitude                    0.005311\n",
       "latitude                     0.005311\n",
       "adresse_nom_voie             0.007435\n",
       "surface_terrain              0.013277\n",
       "adresse_numero               0.107807\n",
       "type_local                   0.235263\n",
       "surface_reelle_bati          0.235263\n",
       "nombre_pieces_principales    0.235263\n",
       "dtype: float64"
      ]
     },
     "execution_count": 2125,
     "metadata": {},
     "output_type": "execute_result"
    }
   ],
   "source": [
    "(df.isna().sum()/df.shape[0]).sort_values()"
   ]
  },
  {
   "cell_type": "code",
   "execution_count": 2126,
   "id": "d8d744a2",
   "metadata": {},
   "outputs": [
    {
     "data": {
      "text/plain": [
       "(1429, 11)"
      ]
     },
     "execution_count": 2126,
     "metadata": {},
     "output_type": "execute_result"
    }
   ],
   "source": [
    "##################################################### Drop NA ##################################################\n",
    "df = df.dropna()\n",
    "################################################################################################################\n",
    "df.shape"
   ]
  },
  {
   "cell_type": "markdown",
   "id": "c4f5aeb1",
   "metadata": {},
   "source": [
    "## Anlyse en profondeur des données\n",
    "### Etudier la structure des donnés continues"
   ]
  },
  {
   "cell_type": "code",
   "execution_count": 2127,
   "id": "28044e55",
   "metadata": {},
   "outputs": [
    {
     "name": "stderr",
     "output_type": "stream",
     "text": [
      "C:\\Users\\TRETEC\\anaconda3\\lib\\site-packages\\seaborn\\distributions.py:2619: FutureWarning: `distplot` is a deprecated function and will be removed in a future version. Please adapt your code to use either `displot` (a figure-level function with similar flexibility) or `histplot` (an axes-level function for histograms).\n",
      "  warnings.warn(msg, FutureWarning)\n",
      "C:\\Users\\TRETEC\\anaconda3\\lib\\site-packages\\seaborn\\distributions.py:2619: FutureWarning: `distplot` is a deprecated function and will be removed in a future version. Please adapt your code to use either `displot` (a figure-level function with similar flexibility) or `histplot` (an axes-level function for histograms).\n",
      "  warnings.warn(msg, FutureWarning)\n",
      "C:\\Users\\TRETEC\\anaconda3\\lib\\site-packages\\seaborn\\_decorators.py:36: FutureWarning: Pass the following variables as keyword args: x, y. From version 0.12, the only valid positional argument will be `data`, and passing other arguments without an explicit keyword will result in an error or misinterpretation.\n",
      "  warnings.warn(\n"
     ]
    },
    {
     "data": {
      "text/plain": [
       "<AxesSubplot:xlabel='longitude', ylabel='latitude'>"
      ]
     },
     "execution_count": 2127,
     "metadata": {},
     "output_type": "execute_result"
    },
    {
     "data": {
      "image/png": "[encoded data removed]",
      "text/plain": [
       "<Figure size 432x288 with 1 Axes>"
      ]
     },
     "metadata": {
      "needs_background": "light"
     },
     "output_type": "display_data"
    },
    {
     "data": {
      "image/png": "[encoded data removed]",
      "text/plain": [
       "<Figure size 432x288 with 1 Axes>"
      ]
     },
     "metadata": {
      "needs_background": "light"
     },
     "output_type": "display_data"
    },
    {
     "data": {
      "image/png": "[encoded data removed]",
      "text/plain": [
       "<Figure size 432x288 with 1 Axes>"
      ]
     },
     "metadata": {
      "needs_background": "light"
     },
     "output_type": "display_data"
    },
    {
     "data": {
      "image/png": "[encoded data removed]",
      "text/plain": [
       "<Figure size 432x288 with 1 Axes>"
      ]
     },
     "metadata": {
      "needs_background": "light"
     },
     "output_type": "display_data"
    }
   ],
   "source": [
    "#for col in df.select_dtypes('float'):\n",
    "#    print(col)\n",
    "\n",
    "plt.figure()\n",
    "sns.distplot(df.loc[(df.valeur_fonciere < 36855776.00) & (df.valeur_fonciere > 1000)].valeur_fonciere)\n",
    "\n",
    "\n",
    "plt.figure()\n",
    "sns.distplot(df['surface_reelle_bati'])\n",
    "\n",
    "plt.figure()\n",
    "sns.histplot(df['surface_terrain'])\n",
    "\n",
    "plt.figure()\n",
    "sns.scatterplot(df['longitude'],df['latitude'])\n",
    "\n"
   ]
  },
  {
   "cell_type": "markdown",
   "id": "813b1994",
   "metadata": {},
   "source": [
    "### Etudier la structure des données Discrètes"
   ]
  },
  {
   "cell_type": "code",
   "execution_count": 2128,
   "id": "f31a7c5a",
   "metadata": {},
   "outputs": [
    {
     "name": "stdout",
     "output_type": "stream",
     "text": [
      "nombre_pieces_principales     [ 4.  1.  5.  3.  2.  7.  6.  8. 22.]\n",
      "type_local                    ['Maison' 'Appartement']\n",
      "section_prefixe               ['000AB' '000AC' '000AD' '000AE' '000AI' '000AK' '000AO' '000AP' '000AR'\n",
      " '000AS' '000AT' '000AV' '000AW' '000AX' '000AY' '000AZ' '000BC' '000BD'\n",
      " '000BE' '000BH' '000BK' '000BL' '000BM' '000BO' '000BP' '000BR' '000BS'\n",
      " '000BT' '000BV' '000BW']\n",
      "nombre_lots                   [0 3 2 1]\n"
     ]
    }
   ],
   "source": [
    "#for col in df.select_dtypes('object'):\n",
    "#    print(col)\n",
    "L=[\"nombre_pieces_principales\",\"type_local\",\"section_prefixe\",\"nombre_lots\"]\n",
    "for col in L:\n",
    "    print(f\"{col: <30}{df[col].unique()}\")"
   ]
  },
  {
   "cell_type": "code",
   "execution_count": 2129,
   "id": "9b618c07",
   "metadata": {},
   "outputs": [
    {
     "data": {
      "image/png": "[encoded data removed]",
      "text/plain": [
       "<Figure size 432x288 with 1 Axes>"
      ]
     },
     "metadata": {},
     "output_type": "display_data"
    },
    {
     "data": {
      "image/png": "[encoded data removed]",
      "text/plain": [
       "<Figure size 432x288 with 1 Axes>"
      ]
     },
     "metadata": {},
     "output_type": "display_data"
    },
    {
     "data": {
      "image/png": "[encoded data removed]",
      "text/plain": [
       "<Figure size 432x288 with 1 Axes>"
      ]
     },
     "metadata": {},
     "output_type": "display_data"
    },
    {
     "data": {
      "image/png": "[encoded data removed]",
      "text/plain": [
       "<Figure size 432x288 with 1 Axes>"
      ]
     },
     "metadata": {},
     "output_type": "display_data"
    }
   ],
   "source": [
    "for col in L:\n",
    "    plt.figure()\n",
    "    df[col].value_counts().plot.pie()"
   ]
  },
  {
   "cell_type": "markdown",
   "id": "47603e2a",
   "metadata": {},
   "source": [
    "# Relation entre les variables et target"
   ]
  },
  {
   "cell_type": "markdown",
   "id": "b7b98332",
   "metadata": {},
   "source": [
    "#### Pièce principales"
   ]
  },
  {
   "cell_type": "code",
   "execution_count": 2130,
   "id": "d8ccdd22",
   "metadata": {},
   "outputs": [
    {
     "data": {
      "text/plain": [
       "Text(0.5, 1.0, 'Nombre de pièces principal vs target (Appartements)')"
      ]
     },
     "execution_count": 2130,
     "metadata": {},
     "output_type": "execute_result"
    },
    {
     "data": {
      "image/png": "[encoded data removed]",
      "text/plain": [
       "<Figure size 432x288 with 1 Axes>"
      ]
     },
     "metadata": {
      "needs_background": "light"
     },
     "output_type": "display_data"
    },
    {
     "data": {
      "image/png": "[encoded data removed]",
      "text/plain": [
       "<Figure size 432x288 with 1 Axes>"
      ]
     },
     "metadata": {
      "needs_background": "light"
     },
     "output_type": "display_data"
    },
    {
     "data": {
      "image/png": "[encoded data removed]",
      "text/plain": [
       "<Figure size 432x288 with 1 Axes>"
      ]
     },
     "metadata": {
      "needs_background": "light"
     },
     "output_type": "display_data"
    }
   ],
   "source": [
    "df_piece=df.groupby(\"nombre_pieces_principales\").mean().valeur_fonciere\n",
    "df_piece\n",
    "plt.figure()\n",
    "plt.bar(df_piece.index,df_piece)\n",
    "plt.xticks(df_piece.index)\n",
    "plt.title(\"Nombre de pièces principal vs target\")\n",
    "\n",
    "df_piece_maison = df.loc[df.type_local == \"Maison\"]\n",
    "df_piece_maison = df_piece_maison.groupby(\"nombre_pieces_principales\").mean().valeur_fonciere\n",
    "plt.figure()\n",
    "plt.bar(df_piece_maison.index,df_piece_maison,color='orange')\n",
    "plt.xticks(df_piece_maison.index)\n",
    "plt.title(\"Nombre de pièces principal vs target (Maisons)\")\n",
    "\n",
    "df_piece_appartement = df.loc[df.type_local == \"Appartement\"]\n",
    "df_piece_appartement = df_piece_appartement.groupby(\"nombre_pieces_principales\").mean().valeur_fonciere\n",
    "plt.figure()\n",
    "plt.bar(df_piece_appartement.index,df_piece_appartement,color='red')\n",
    "plt.xticks(df_piece_appartement.index)\n",
    "plt.title(\"Nombre de pièces principal vs target (Appartements)\")\n"
   ]
  },
  {
   "cell_type": "markdown",
   "id": "7ac96a58",
   "metadata": {},
   "source": [
    "#### Type local"
   ]
  },
  {
   "cell_type": "code",
   "execution_count": 2131,
   "id": "ab57f199",
   "metadata": {},
   "outputs": [
    {
     "data": {
      "text/plain": [
       "<BarContainer object of 2 artists>"
      ]
     },
     "execution_count": 2131,
     "metadata": {},
     "output_type": "execute_result"
    },
    {
     "data": {
      "image/png": "[encoded data removed]",
      "text/plain": [
       "<Figure size 432x288 with 1 Axes>"
      ]
     },
     "metadata": {
      "needs_background": "light"
     },
     "output_type": "display_data"
    }
   ],
   "source": [
    "df_type_local=df.groupby(\"type_local\").mean().valeur_fonciere\n",
    "df_type_local\n",
    "plt.figure()\n",
    "plt.bar(df_type_local.index,df_type_local,color=['red','orange'],width=0.2)"
   ]
  },
  {
   "cell_type": "markdown",
   "id": "8364b328",
   "metadata": {},
   "source": [
    "#### Surface terrain"
   ]
  },
  {
   "cell_type": "code",
   "execution_count": 2132,
   "id": "5d73f365",
   "metadata": {},
   "outputs": [
    {
     "data": {
      "text/plain": [
       "Text(0.5, 1.0, 'surface terrain vs target (Maison)')"
      ]
     },
     "execution_count": 2132,
     "metadata": {},
     "output_type": "execute_result"
    },
    {
     "data": {
      "image/png": "[encoded data removed]",
      "text/plain": [
       "<Figure size 432x288 with 1 Axes>"
      ]
     },
     "metadata": {
      "needs_background": "light"
     },
     "output_type": "display_data"
    }
   ],
   "source": [
    "df_terrain_maison = df.loc[df.type_local == \"Maison\"]\n",
    "df_terrain_maison = df_terrain_maison.groupby(\"surface_terrain\").mean().valeur_fonciere\n",
    "plt.figure()\n",
    "plt.scatter(df_terrain_maison[df_terrain_maison.index < 1000].index,df_terrain_maison[df_terrain_maison.index < 1000],color='orange')\n",
    "plt.title(\"surface terrain vs target (Maison)\")"
   ]
  },
  {
   "cell_type": "markdown",
   "id": "2c80fd27",
   "metadata": {},
   "source": [
    "#### Surface bati"
   ]
  },
  {
   "cell_type": "code",
   "execution_count": 2133,
   "id": "5171ca7d",
   "metadata": {},
   "outputs": [
    {
     "data": {
      "text/plain": [
       "Text(0.5, 1.0, 'surface bati vs target (Appartements)')"
      ]
     },
     "execution_count": 2133,
     "metadata": {},
     "output_type": "execute_result"
    },
    {
     "data": {
      "image/png": "[encoded data removed]",
      "text/plain": [
       "<Figure size 432x288 with 1 Axes>"
      ]
     },
     "metadata": {
      "needs_background": "light"
     },
     "output_type": "display_data"
    },
    {
     "data": {
      "image/png": "[encoded data removed]",
      "text/plain": [
       "<Figure size 432x288 with 1 Axes>"
      ]
     },
     "metadata": {
      "needs_background": "light"
     },
     "output_type": "display_data"
    },
    {
     "data": {
      "image/png": "[encoded data removed]",
      "text/plain": [
       "<Figure size 432x288 with 1 Axes>"
      ]
     },
     "metadata": {
      "needs_background": "light"
     },
     "output_type": "display_data"
    }
   ],
   "source": [
    "df_surface_bati=df.groupby(\"surface_reelle_bati\").mean().valeur_fonciere\n",
    "plt.figure()\n",
    "plt.scatter(df_surface_bati.index,df_surface_bati)\n",
    "\n",
    "df_bati_maison = df.loc[df.type_local == \"Maison\"]\n",
    "df_bati_maison = df_bati_maison.groupby(\"surface_reelle_bati\").mean().valeur_fonciere\n",
    "plt.figure()\n",
    "plt.scatter(df_bati_maison[df_bati_maison.index < 2000].index,df_bati_maison[df_bati_maison.index < 2000],color='orange')\n",
    "plt.title(\"surface bati vs target (Maison)\")\n",
    "\n",
    "df_bati_appartement = df.loc[df.type_local == \"Appartement\"]\n",
    "df_bati_appartement = df_bati_appartement.groupby(\"surface_reelle_bati\").mean().valeur_fonciere\n",
    "plt.figure()\n",
    "plt.scatter(df_bati_appartement.index,df_bati_appartement,color='red')\n",
    "plt.title(\"surface bati vs target (Appartements)\")"
   ]
  },
  {
   "cell_type": "markdown",
   "id": "6e33320c",
   "metadata": {},
   "source": [
    "#### Secteur/localisation\n",
    "Il est difficile de trouver une correlation entre section_prefixe/section_prefixe et la valeur fonciere car au sein de chaque section_prefixe/adresse_nom_voie la valeur des bien varie énormément, car comme nous l'avons vu la valeur a une très forte corrélation avec d'autre variable (surface, nbr_piece)."
   ]
  },
  {
   "cell_type": "code",
   "execution_count": 2134,
   "id": "76a82e5c",
   "metadata": {},
   "outputs": [
    {
     "data": {
      "text/plain": [
       "<BarContainer object of 188 artists>"
      ]
     },
     "execution_count": 2134,
     "metadata": {},
     "output_type": "execute_result"
    },
    {
     "data": {
      "image/png": "[encoded data removed]",
      "text/plain": [
       "<Figure size 432x288 with 1 Axes>"
      ]
     },
     "metadata": {
      "needs_background": "light"
     },
     "output_type": "display_data"
    },
    {
     "data": {
      "image/png": "[encoded data removed]",
      "text/plain": [
       "<Figure size 432x288 with 1 Axes>"
      ]
     },
     "metadata": {
      "needs_background": "light"
     },
     "output_type": "display_data"
    }
   ],
   "source": [
    "df_section=df.groupby(\"section_prefixe\").var().valeur_fonciere\n",
    "plt.figure()\n",
    "plt.bar(df_section.index,df_section)\n",
    "plt.xticks()\n",
    "\n",
    "df_nbr_lot=df.groupby(\"adresse_nom_voie\").var().valeur_fonciere\n",
    "plt.figure()\n",
    "plt.bar(df_nbr_lot[df_nbr_lot < 10000000000].index,df_nbr_lot[df_nbr_lot < 10000000000])"
   ]
  },
  {
   "cell_type": "markdown",
   "id": "3c3a5201",
   "metadata": {},
   "source": [
    "## Correlation entre les variables\n",
    "### variable de secteur, adresse, et géolocalisation\n",
    "Il est évident qu'il existe une correlation très forte entre les adresse (num rue + nom rue) et les coordonnée GPS (longitude + latitude). Cependant, lorsqu'on pense à l'experience utilisateur, il est préférable de demander le nom de la rue par exemple plus tôt que les coordonnées GPS.\n",
    "\n",
    "L'application va permettre d'estimer la valeurs des appartement et des maisons pour des acheteurs et des vendeurs, il est donc important de garder la localisation du bien ni trop spécifique (en incluant le numéro de la rue par exemple) ni trop vague. Les deux candidats pour décrire le mieux le positionnement du bien sont donc : adresse_nom_voie et section_prefixe.\n",
    "\n",
    "Nous devons sélectionné une de ces deux variables pour éviter la redandance étant donné que les deux variables sont très corrélés. A cet étape il est difficile d'en choisir une seule variable, nous allons faire des test avec les deux variables durant la partie apprentissage et garder la variable qui donne le meuilleur modèle."
   ]
  },
  {
   "cell_type": "code",
   "execution_count": 2135,
   "id": "6866445b",
   "metadata": {},
   "outputs": [],
   "source": [
    "df = df.drop(['latitude','longitude','nombre_lots','adresse_numero'],axis=1)"
   ]
  },
  {
   "cell_type": "markdown",
   "id": "d21babd5",
   "metadata": {},
   "source": [
    "### Autres variables\n",
    "#### Biens de type maison"
   ]
  },
  {
   "cell_type": "code",
   "execution_count": 2136,
   "id": "51d8a9e5",
   "metadata": {},
   "outputs": [
    {
     "data": {
      "text/plain": [
       "<AxesSubplot:>"
      ]
     },
     "execution_count": 2136,
     "metadata": {},
     "output_type": "execute_result"
    },
    {
     "data": {
      "image/png": "[encoded data removed]",
      "text/plain": [
       "<Figure size 432x288 with 2 Axes>"
      ]
     },
     "metadata": {
      "needs_background": "light"
     },
     "output_type": "display_data"
    }
   ],
   "source": [
    "sns.heatmap(df[df.type_local == 'Maison'].corr(),annot=True)"
   ]
  },
  {
   "cell_type": "markdown",
   "id": "423eecc4",
   "metadata": {},
   "source": [
    "#### Biens de type appartement"
   ]
  },
  {
   "cell_type": "code",
   "execution_count": 2137,
   "id": "b3d0f576",
   "metadata": {},
   "outputs": [
    {
     "data": {
      "text/plain": [
       "<AxesSubplot:>"
      ]
     },
     "execution_count": 2137,
     "metadata": {},
     "output_type": "execute_result"
    },
    {
     "data": {
      "image/png": "[encoded data removed]",
      "text/plain": [
       "<Figure size 432x288 with 2 Axes>"
      ]
     },
     "metadata": {
      "needs_background": "light"
     },
     "output_type": "display_data"
    }
   ],
   "source": [
    "sns.heatmap(df[df.type_local == 'Appartement'].corr(),annot=True)"
   ]
  },
  {
   "cell_type": "markdown",
   "id": "5cf4b72e",
   "metadata": {},
   "source": [
    "## Coder les varibales de catégorie"
   ]
  },
  {
   "cell_type": "code",
   "execution_count": 2138,
   "id": "153da2d7",
   "metadata": {},
   "outputs": [],
   "source": [
    "df[\"type_local\"] = df[\"type_local\"].astype('category')\n",
    "df[\"type_local_cat\"] = df[\"type_local\"].cat.codes\n",
    "\n",
    "df[\"section_prefixe\"] = df[\"section_prefixe\"].astype('category')\n",
    "df[\"section_prefixe_cat\"] = df[\"section_prefixe\"].cat.codes\n",
    "\n",
    "df[\"adresse_nom_voie\"] = df[\"adresse_nom_voie\"].astype('category')\n",
    "df[\"adresse_nom_voie_cat\"] = df[\"adresse_nom_voie\"].cat.codes"
   ]
  },
  {
   "cell_type": "code",
   "execution_count": 2108,
   "id": "d4a458bf",
   "metadata": {},
   "outputs": [
    {
     "data": {
      "text/html": [
       "<div>\n",
       "<style scoped>\n",
       "    .dataframe tbody tr th:only-of-type {\n",
       "        vertical-align: middle;\n",
       "    }\n",
       "\n",
       "    .dataframe tbody tr th {\n",
       "        vertical-align: top;\n",
       "    }\n",
       "\n",
       "    .dataframe thead th {\n",
       "        text-align: right;\n",
       "    }\n",
       "</style>\n",
       "<table border=\"1\" class=\"dataframe\">\n",
       "  <thead>\n",
       "    <tr style=\"text-align: right;\">\n",
       "      <th></th>\n",
       "      <th>valeur_fonciere</th>\n",
       "      <th>adresse_nom_voie</th>\n",
       "      <th>type_local</th>\n",
       "      <th>surface_reelle_bati</th>\n",
       "      <th>nombre_pieces_principales</th>\n",
       "      <th>surface_terrain</th>\n",
       "      <th>section_prefixe</th>\n",
       "    </tr>\n",
       "  </thead>\n",
       "  <tbody>\n",
       "    <tr>\n",
       "      <th>0</th>\n",
       "      <td>260000.0</td>\n",
       "      <td>RUE DELILLE</td>\n",
       "      <td>Maison</td>\n",
       "      <td>129.0</td>\n",
       "      <td>4.0</td>\n",
       "      <td>351.0</td>\n",
       "      <td>000AB</td>\n",
       "    </tr>\n",
       "    <tr>\n",
       "      <th>2</th>\n",
       "      <td>160000.0</td>\n",
       "      <td>RUE ALFRED DE MUSSET</td>\n",
       "      <td>Maison</td>\n",
       "      <td>64.0</td>\n",
       "      <td>4.0</td>\n",
       "      <td>452.0</td>\n",
       "      <td>000AB</td>\n",
       "    </tr>\n",
       "    <tr>\n",
       "      <th>3</th>\n",
       "      <td>174000.0</td>\n",
       "      <td>RUE PAUL VERLAINE</td>\n",
       "      <td>Maison</td>\n",
       "      <td>64.0</td>\n",
       "      <td>4.0</td>\n",
       "      <td>498.0</td>\n",
       "      <td>000AB</td>\n",
       "    </tr>\n",
       "    <tr>\n",
       "      <th>5</th>\n",
       "      <td>200000.0</td>\n",
       "      <td>RUE DU MADRILLET</td>\n",
       "      <td>Appartement</td>\n",
       "      <td>18.0</td>\n",
       "      <td>1.0</td>\n",
       "      <td>0.0</td>\n",
       "      <td>000AB</td>\n",
       "    </tr>\n",
       "    <tr>\n",
       "      <th>7</th>\n",
       "      <td>180000.0</td>\n",
       "      <td>RUE DELILLE</td>\n",
       "      <td>Maison</td>\n",
       "      <td>108.0</td>\n",
       "      <td>5.0</td>\n",
       "      <td>348.0</td>\n",
       "      <td>000AB</td>\n",
       "    </tr>\n",
       "  </tbody>\n",
       "</table>\n",
       "</div>"
      ],
      "text/plain": [
       "   valeur_fonciere      adresse_nom_voie   type_local  surface_reelle_bati  \\\n",
       "0         260000.0           RUE DELILLE       Maison                129.0   \n",
       "2         160000.0  RUE ALFRED DE MUSSET       Maison                 64.0   \n",
       "3         174000.0     RUE PAUL VERLAINE       Maison                 64.0   \n",
       "5         200000.0      RUE DU MADRILLET  Appartement                 18.0   \n",
       "7         180000.0           RUE DELILLE       Maison                108.0   \n",
       "\n",
       "   nombre_pieces_principales  surface_terrain section_prefixe  \n",
       "0                        4.0            351.0           000AB  \n",
       "2                        4.0            452.0           000AB  \n",
       "3                        4.0            498.0           000AB  \n",
       "5                        1.0              0.0           000AB  \n",
       "7                        5.0            348.0           000AB  "
      ]
     },
     "execution_count": 2108,
     "metadata": {},
     "output_type": "execute_result"
    }
   ],
   "source": [
    "df.head()"
   ]
  },
  {
   "cell_type": "code",
   "execution_count": 1765,
   "id": "6fa4cc34",
   "metadata": {},
   "outputs": [],
   "source": [
    "clean_df = df.copy()\n",
    "clean_df = clean_df.drop(['adresse_nom_voie','type_local','section_prefixe'],axis=1)\n"
   ]
  },
  {
   "cell_type": "markdown",
   "id": "9f5c5aad",
   "metadata": {},
   "source": [
    "# Apprentissage"
   ]
  },
  {
   "cell_type": "markdown",
   "id": "5ebfdd47",
   "metadata": {},
   "source": [
    "Etant données que les données concernant les appartement sont complétement décorélées, la qualité des prédictions des prix des appartement risque d'être fausse (on confirmera cela suite à nos testes). C'est pour cette raison que nous allons faire un modèle pour les maisons séparément ensuite un autre modèle pour les appartements"
   ]
  },
  {
   "cell_type": "markdown",
   "id": "1ad241eb",
   "metadata": {},
   "source": [
    "## Données Maisons"
   ]
  },
  {
   "cell_type": "markdown",
   "id": "33ee3743",
   "metadata": {},
   "source": [
    "### Régression linéair"
   ]
  },
  {
   "cell_type": "code",
   "execution_count": 2144,
   "id": "f2afe9bc",
   "metadata": {},
   "outputs": [],
   "source": [
    "df_home = clean_df[clean_df.type_local_cat == 1]\n",
    "df_home = df_home.drop(['type_local_cat','adresse_nom_voie_cat'],axis=1)"
   ]
  },
  {
   "cell_type": "code",
   "execution_count": 2145,
   "id": "9f2bf54c",
   "metadata": {},
   "outputs": [],
   "source": [
    "X = df_home.iloc[:,1:].values\n",
    "y = df_home.iloc[:,0].values"
   ]
  },
  {
   "cell_type": "code",
   "execution_count": 2146,
   "id": "d600c7c4",
   "metadata": {},
   "outputs": [],
   "source": [
    "X_train, X_test, y_train, y_test = train_test_split(X, y, test_size=0.25, random_state=1)"
   ]
  },
  {
   "cell_type": "code",
   "execution_count": 2147,
   "id": "d6e55e7f",
   "metadata": {},
   "outputs": [
    {
     "name": "stdout",
     "output_type": "stream",
     "text": [
      "Accuracy : 62.75%\n"
     ]
    }
   ],
   "source": [
    "regressor = LinearRegression()\n",
    "regressor.fit(X_train, y_train)\n",
    "prediction = regressor.predict(X_test)\n",
    "#cross_val_score(regressor, X_train, y_train, cv=5).mean()\n",
    "regressor.score(X_test,y_test)\n",
    "print(f\"Accuracy : {regressor.score(X_test, y_test)*100:.2f}%\")"
   ]
  },
  {
   "cell_type": "markdown",
   "id": "5e0e1476",
   "metadata": {},
   "source": [
    "### Ridge regression"
   ]
  },
  {
   "cell_type": "code",
   "execution_count": 1877,
   "id": "7cec302f",
   "metadata": {},
   "outputs": [
    {
     "name": "stdout",
     "output_type": "stream",
     "text": [
      "1151\n",
      "Accuracy : 62.70%\n"
     ]
    }
   ],
   "source": [
    "alpha_range=5000\n",
    "scores_ridge=np.zeros(alpha_range)\n",
    "for a in range (0,alpha_range,1):\n",
    "    rid = Ridge(alpha=a)\n",
    "    rid.fit(X_train, y_train)\n",
    "    #prediction = rid.predict(X_test)\n",
    "    scores_ridge[a]=cross_val_score(rid, X_train, y_train, cv=5).mean()\n",
    "#print(np.argmax(scores_ridge))\n",
    "#print(np.max(scores_ridge))\n",
    "#print(rid.coef_)\n",
    "a=np.argmax(scores_ridge)\n",
    "print(a)\n",
    "rid = Lasso(alpha=a)\n",
    "rid.fit(X_train, y_train)\n",
    "print(f\"Accuracy : {rid.score(X_test, y_test)*100:.2f}%\")"
   ]
  },
  {
   "cell_type": "markdown",
   "id": "5b026042",
   "metadata": {},
   "source": [
    "### Lasso regression"
   ]
  },
  {
   "cell_type": "code",
   "execution_count": 2148,
   "id": "5ba8635f",
   "metadata": {},
   "outputs": [
    {
     "name": "stdout",
     "output_type": "stream",
     "text": [
      "3460\n",
      "Accuracy : 62.74%\n"
     ]
    }
   ],
   "source": [
    "alpha_range=5000\n",
    "scores_las=np.zeros(alpha_range)\n",
    "for a in range (1,alpha_range,1):\n",
    "    las = Lasso(alpha=a)\n",
    "    las.fit(X_train, y_train)\n",
    "    #prediction = rid.predict(X_test)\n",
    "    scores_las[a]=cross_val_score(las, X_train, y_train, cv=5).mean()\n",
    "\n",
    "a=np.argmax(scores_las)\n",
    "print(a)\n",
    "#print(np.max(scores_las))\n",
    "las = Lasso(alpha=a)\n",
    "las.fit(X_train, y_train)\n",
    "print(f\"Accuracy : {las.score(X_test, y_test)*100:.2f}%\")"
   ]
  },
  {
   "cell_type": "markdown",
   "id": "4308fd27",
   "metadata": {},
   "source": [
    "### Régression polynomial"
   ]
  },
  {
   "cell_type": "code",
   "execution_count": 2149,
   "id": "f1bbb34a",
   "metadata": {},
   "outputs": [
    {
     "name": "stdout",
     "output_type": "stream",
     "text": [
      "Accuracy : 71.49%\n"
     ]
    }
   ],
   "source": [
    "poly = PolynomialFeatures(degree=2,interaction_only=True)\n",
    "X_train_poly = poly.fit_transform(X_train)\n",
    "X_test_poly = poly.fit_transform(X_test)\n",
    "reg_house = LinearRegression()\n",
    "reg_house.fit(X_train_poly, y_train)\n",
    "prediction_house = reg_house.predict(X_test_poly)\n",
    "print(f\"Accuracy : {reg_house.score(X_test_poly, y_test)*100:.2f}%\")"
   ]
  },
  {
   "cell_type": "code",
   "execution_count": 2033,
   "id": "1409b1a6",
   "metadata": {},
   "outputs": [
    {
     "data": {
      "text/plain": [
       "[0.0,\n",
       " 1419.0607130996075,\n",
       " 22003.791769940002,\n",
       " 124.00864832313322,\n",
       " 380.2350752791426,\n",
       " -139.55600657560683,\n",
       " 0.7444790167758355,\n",
       " 10.510936853533687,\n",
       " -27.805205185220355,\n",
       " -164.91108658278432,\n",
       " -0.8445930817257835]"
      ]
     },
     "execution_count": 2033,
     "metadata": {},
     "output_type": "execute_result"
    }
   ],
   "source": [
    "A_house=[0.0, 1419.0607130996075, 22003.791769940002, 124.00864832313322, 380.2350752791426, -139.55600657560683, 0.7444790167758355, 10.510936853533687, -27.805205185220355, -164.91108658278432, -0.8445930817257835]\n",
    "B_house= -26300.862647456146\n",
    "reg_house.coef_.tolist()"
   ]
  },
  {
   "cell_type": "code",
   "execution_count": 2034,
   "id": "047233f7",
   "metadata": {},
   "outputs": [
    {
     "data": {
      "text/plain": [
       "-26300.862647456146"
      ]
     },
     "execution_count": 2034,
     "metadata": {},
     "output_type": "execute_result"
    }
   ],
   "source": [
    "reg_house.intercept_"
   ]
  },
  {
   "cell_type": "code",
   "execution_count": 2036,
   "id": "22f2c683",
   "metadata": {},
   "outputs": [],
   "source": [
    "def estimation_maison(surface, piece, terrain, section, A, B):\n",
    "    f= B + A[0]+A[1]*surface+A[2]*piece+A[3]*terrain+A[4]*section + A[5]*surface*piece+A[6]*surface*terrain+A[7]*surface*section + A[8]*piece*terrain+A[9]*piece*section + A[10]*terrain*section\n",
    "    return f"
   ]
  },
  {
   "cell_type": "markdown",
   "id": "111baef0",
   "metadata": {},
   "source": [
    "## Données Appartements"
   ]
  },
  {
   "cell_type": "markdown",
   "id": "c9035ae3",
   "metadata": {},
   "source": [
    "### Régression linéair"
   ]
  },
  {
   "cell_type": "code",
   "execution_count": 2150,
   "id": "5d8d9401",
   "metadata": {},
   "outputs": [],
   "source": [
    "df_appart = clean_df[clean_df.type_local_cat == 0]\n",
    "df_appart = df_appart.drop(['type_local_cat','adresse_nom_voie_cat','surface_terrain'],axis=1)"
   ]
  },
  {
   "cell_type": "code",
   "execution_count": 2151,
   "id": "8fc0f1e5",
   "metadata": {},
   "outputs": [],
   "source": [
    "X = df_appart.iloc[:,1:].values\n",
    "y = df_appart.iloc[:,0].values"
   ]
  },
  {
   "cell_type": "code",
   "execution_count": 2152,
   "id": "f6403017",
   "metadata": {},
   "outputs": [],
   "source": [
    "X_train, X_test, y_train, y_test = train_test_split(X, y, test_size=0.25, random_state=1)"
   ]
  },
  {
   "cell_type": "code",
   "execution_count": 2153,
   "id": "647a8d0c",
   "metadata": {},
   "outputs": [
    {
     "name": "stdout",
     "output_type": "stream",
     "text": [
      "Accuracy : 32.07%\n"
     ]
    }
   ],
   "source": [
    "lin_reg = LinearRegression()\n",
    "lin_reg.fit(X_train, y_train)\n",
    "prediction = lin_reg.predict(X_test)\n",
    "#cross_val_score(regressor, X_train, y_train, cv=5).mean()\n",
    "print(f\"Accuracy : {lin_reg.score(X_test, y_test)*100:.2f}%\")"
   ]
  },
  {
   "cell_type": "markdown",
   "id": "e945c451",
   "metadata": {},
   "source": [
    "### Ridge regression"
   ]
  },
  {
   "cell_type": "code",
   "execution_count": 1852,
   "id": "b0e4d4f7",
   "metadata": {},
   "outputs": [
    {
     "name": "stdout",
     "output_type": "stream",
     "text": [
      "101\n",
      "Accuracy : 32.07%\n"
     ]
    }
   ],
   "source": [
    "alpha_range=500000\n",
    "scores_ridge=np.zeros(alpha_range)\n",
    "for a in range (1,alpha_range,100):\n",
    "    rid = Ridge(alpha=a)\n",
    "    rid.fit(X_train, y_train)\n",
    "    scores_ridge[a]=cross_val_score(rid, X_train, y_train, cv=5).mean()\n",
    "a=np.argmax(scores_ridge)\n",
    "print(a)\n",
    "rid = Lasso(alpha=a)\n",
    "rid.fit(X_train, y_train)\n",
    "print(f\"Accuracy : {rid.score(X_test, y_test)*100:.2f}%\")"
   ]
  },
  {
   "cell_type": "markdown",
   "id": "f379d772",
   "metadata": {},
   "source": [
    "### Lasso regression"
   ]
  },
  {
   "cell_type": "code",
   "execution_count": 1851,
   "id": "b4d7cc18",
   "metadata": {},
   "outputs": [
    {
     "name": "stdout",
     "output_type": "stream",
     "text": [
      "26101\n",
      "Accuracy : 31.03%\n"
     ]
    }
   ],
   "source": [
    "alpha_range=500000\n",
    "scores_las=np.zeros(alpha_range)\n",
    "for a in range (1,alpha_range,100):\n",
    "    las = Lasso(alpha=a)\n",
    "    las.fit(X_train, y_train)\n",
    "    scores_las[a]=cross_val_score(las, X_train, y_train, cv=5).mean()\n",
    "a=np.argmax(scores_las)\n",
    "print(a)\n",
    "las = Lasso(alpha=a)\n",
    "las.fit(X_train, y_train)\n",
    "print(f\"Accuracy : {las.score(X_test, y_test)*100:.2f}%\")"
   ]
  },
  {
   "cell_type": "markdown",
   "id": "7e6cfae3",
   "metadata": {},
   "source": [
    "### Régression polynomial"
   ]
  },
  {
   "cell_type": "code",
   "execution_count": 2154,
   "id": "51b1ac20",
   "metadata": {},
   "outputs": [
    {
     "name": "stdout",
     "output_type": "stream",
     "text": [
      "Accuracy : 37.07%\n"
     ]
    }
   ],
   "source": [
    "poly = PolynomialFeatures(degree=3,interaction_only=True)\n",
    "X_train_poly = poly.fit_transform(X_train)\n",
    "X_test_poly = poly.fit_transform(X_test)\n",
    "reg_appart = LinearRegression()\n",
    "reg_appart.fit(X_train_poly, y_train)\n",
    "prediction = reg_appart.predict(X_test_poly)\n",
    "print(f\"Accuracy : {reg_appart.score(X_test_poly, y_test)*100:.2f}%\")"
   ]
  },
  {
   "cell_type": "markdown",
   "id": "61733f99",
   "metadata": {},
   "source": [
    "Après analyse des résultats nous allons sélectionner les modèles de régressions polynomials de degrée 2 pour les données de maisons et de degré 3 pour les données d'appartements.\n",
    "\n",
    "Ue taux de précision de plus de 70% pour le modèles de prédiction des prix de maison. Mais seulement 37% de précision sur les prédiction des prix d'appartements, ce qui était prévisible vu la nature des données."
   ]
  },
  {
   "cell_type": "markdown",
   "id": "336e565d",
   "metadata": {},
   "source": [
    "# Extraction des données nécessaire à l'application mobile"
   ]
  },
  {
   "cell_type": "markdown",
   "id": "bae8adaa",
   "metadata": {},
   "source": [
    "## Extraction des encoding des variables textuelles"
   ]
  },
  {
   "cell_type": "code",
   "execution_count": 2141,
   "id": "8c20ad23",
   "metadata": {},
   "outputs": [],
   "source": [
    "df.groupby(\"type_local\").mean().type_local_cat.to_csv('type_local_encoding.csv',index=True)"
   ]
  },
  {
   "cell_type": "code",
   "execution_count": 2143,
   "id": "1209b703",
   "metadata": {},
   "outputs": [],
   "source": [
    "df.groupby(\"section_prefixe\").mean().section_prefixe_cat.to_csv('selection_prefixe_encoding.csv',index=True)"
   ]
  },
  {
   "cell_type": "markdown",
   "id": "3ffba487",
   "metadata": {},
   "source": [
    "### Extraction de l'équation de la droite de rérgression"
   ]
  },
  {
   "cell_type": "markdown",
   "id": "24bfdde2",
   "metadata": {},
   "source": [
    "#### Données Maisons"
   ]
  },
  {
   "cell_type": "code",
   "execution_count": 2167,
   "id": "6c748f85",
   "metadata": {},
   "outputs": [],
   "source": [
    "f = open(\"equation_regression_maison.txt\", \"w\")\n",
    "equa_house=f\"A={reg_house.coef_.tolist()}\\nB={reg_house.intercept_}\\n\\nEquation:\\nB + A[0]+A[1]*surface+A[2]*piece+A[3]*terrain+A[4]*section + A[5]*surface*piece+A[6]*surface*terrain+A[7]*surface*section + A[8]*piece*terrain+A[9]*piece*section + A[10]*terrain*section\"\n",
    "f.write(equa_house)\n",
    "f.close()"
   ]
  },
  {
   "cell_type": "markdown",
   "id": "89c021d0",
   "metadata": {},
   "source": [
    "#### Données Appartement"
   ]
  },
  {
   "cell_type": "code",
   "execution_count": 2170,
   "id": "97a18090",
   "metadata": {},
   "outputs": [],
   "source": [
    "f = open(\"equation_regression_appartement.txt\", \"w\")\n",
    "equa_appart=f\"A={reg_appart.coef_.tolist()}\\nB={reg_appart.intercept_}\\n\\nEquation:\\nB + A[0] +A[1]*surface+A[2]*piece+A[3]*section + A[4]*surface*piece+A[5]*surface*section+A[6]*piece*section + A[7]*surface*piece*section\"\n",
    "f.write(equa_appart)\n",
    "f.close()"
   ]
  }
 ],
 "metadata": {
  "kernelspec": {
   "display_name": "Python 3 (ipykernel)",
   "language": "python",
   "name": "python3"
  },
  "language_info": {
   "codemirror_mode": {
    "name": "ipython",
    "version": 3
   },
   "file_extension": ".py",
   "mimetype": "text/x-python",
   "name": "python",
   "nbconvert_exporter": "python",
   "pygments_lexer": "ipython3",
   "version": "3.9.12"
  }
 },
 "nbformat": 4,
 "nbformat_minor": 5
}
