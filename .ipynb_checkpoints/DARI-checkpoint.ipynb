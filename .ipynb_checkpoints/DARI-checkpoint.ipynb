{
 "cells": [
  {
   "cell_type": "code",
   "execution_count": 32,
   "id": "cc719556",
   "metadata": {},
   "outputs": [],
   "source": [
    "import pandas as pd\n",
    "import numpy as np\n",
    "import os\n",
    "import glob"
   ]
  },
  {
   "cell_type": "code",
   "execution_count": 34,
   "id": "536d5928",
   "metadata": {},
   "outputs": [],
   "source": [
    "################# lecture des donées ######################\n",
    "csv_files = glob.glob(\"C:/Users/TRETEC/Desktop/DARI project/transactions-ser/*.csv\")\n",
    "data=pd.DataFrame()\n",
    "L=[]\n",
    "for f in csv_files:    \n",
    "    L.append(pd.read_csv(f,sep=\";\"))\n",
    "data=pd.concat(L)\n",
    "###########################################################"
   ]
  }
 ],
 "metadata": {
  "kernelspec": {
   "display_name": "Python 3 (ipykernel)",
   "language": "python",
   "name": "python3"
  },
  "language_info": {
   "codemirror_mode": {
    "name": "ipython",
    "version": 3
   },
   "file_extension": ".py",
   "mimetype": "text/x-python",
   "name": "python",
   "nbconvert_exporter": "python",
   "pygments_lexer": "ipython3",
   "version": "3.9.12"
  }
 },
 "nbformat": 4,
 "nbformat_minor": 5
}
